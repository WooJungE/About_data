{
  "nbformat": 4,
  "nbformat_minor": 0,
  "metadata": {
    "colab": {
      "provenance": [],
      "mount_file_id": "1B8PVao-zl3MRKqO-uYZnQbImXexg3G7J",
      "authorship_tag": "ABX9TyMb288B/ybxtKpPwmXqxBa0",
      "include_colab_link": true
    },
    "kernelspec": {
      "name": "python3",
      "display_name": "Python 3"
    },
    "language_info": {
      "name": "python"
    }
  },
  "cells": [
    {
      "cell_type": "markdown",
      "metadata": {
        "id": "view-in-github",
        "colab_type": "text"
      },
      "source": [
        "<a href=\"https://colab.research.google.com/github/WooJungE/About_data/blob/main/20230323.ipynb\" target=\"_parent\"><img src=\"https://colab.research.google.com/assets/colab-badge.svg\" alt=\"Open In Colab\"/></a>"
      ]
    },
    {
      "cell_type": "code",
      "execution_count": 24,
      "metadata": {
        "colab": {
          "base_uri": "https://localhost:8080/"
        },
        "id": "V2yhJjuWCgFA",
        "outputId": "20f6ddd4-1b3e-4748-c0d2-b23556cd2ce1"
      },
      "outputs": [
        {
          "output_type": "stream",
          "name": "stdout",
          "text": [
            "   max_speed    price\n",
            "0         24  23680.0\n",
            "1         35      NaN\n",
            "2         46  47350.0\n",
            "3         27      NaN\n"
          ]
        }
      ],
      "source": [
        "import pandas as pd\n",
        "import numpy as np\n",
        "robots = [[24, 23680], [35, ], [46, 47350], [27, ]]\n",
        "data = pd.DataFrame(robots, columns=['max_speed', 'price'])\n",
        "print(data)"
      ]
    },
    {
      "cell_type": "code",
      "source": [
        "data.dropna(subset=['price'], axis=0, inplace=True)\n",
        "print(data)"
      ],
      "metadata": {
        "colab": {
          "base_uri": "https://localhost:8080/"
        },
        "id": "HfkM4O4cFlpN",
        "outputId": "46646489-9e49-416c-e906-638051385a5e"
      },
      "execution_count": 2,
      "outputs": [
        {
          "output_type": "stream",
          "name": "stdout",
          "text": [
            "   max_speed    price\n",
            "0         24  23680.0\n",
            "2         46  47350.0\n"
          ]
        }
      ]
    },
    {
      "cell_type": "code",
      "source": [
        "data = pd.DataFrame(robots, columns=['max_speed', 'price'])\n",
        "mean = data['price'].mean()\n",
        "data.replace(np.NaN, mean, inplace=True)\n",
        "print(data)"
      ],
      "metadata": {
        "colab": {
          "base_uri": "https://localhost:8080/"
        },
        "id": "Btx1nVazGK4x",
        "outputId": "6e9ed1a2-c58a-4c95-c432-9b0826301ef2"
      },
      "execution_count": 3,
      "outputs": [
        {
          "output_type": "stream",
          "name": "stdout",
          "text": [
            "   max_speed    price\n",
            "0         24  23680.0\n",
            "1         35  35515.0\n",
            "2         46  47350.0\n",
            "3         27  35515.0\n"
          ]
        }
      ]
    },
    {
      "cell_type": "code",
      "source": [
        "import pandas as pd\n",
        "df = pd.read_csv('/content/drive/MyDrive/data/실습에 사용되는 파일2-20230314/iris_missing_values.csv')\n",
        "df.index.name = 'record'\n",
        "print(df.head())"
      ],
      "metadata": {
        "colab": {
          "base_uri": "https://localhost:8080/"
        },
        "id": "tnSDIS6LGzTG",
        "outputId": "2c628db8-9b1e-4a1f-8e0e-a0376195b8c3"
      },
      "execution_count": 7,
      "outputs": [
        {
          "output_type": "stream",
          "name": "stdout",
          "text": [
            "        sepal length in cm  sepal width in cm  petal length in cm  \\\n",
            "record                                                              \n",
            "0                      NaN                3.5                 1.4   \n",
            "1                      4.9                3.0                 1.4   \n",
            "2                      NaN                3.2                 1.3   \n",
            "3                      4.6                3.1                 1.5   \n",
            "4                      5.0                3.6                 1.4   \n",
            "\n",
            "        petal width in cm species  \n",
            "record                             \n",
            "0                     0.2  setosa  \n",
            "1                     0.2  setosa  \n",
            "2                     0.2  setosa  \n",
            "3                     0.2  setosa  \n",
            "4                     0.2  setosa  \n"
          ]
        }
      ]
    },
    {
      "cell_type": "code",
      "source": [
        "df['sepal length in cm'].isnull()\n",
        "print(df['sepal length in cm'].isnull().values.any())\n",
        "print(df['sepal length in cm'].isnull().values.sum())"
      ],
      "metadata": {
        "colab": {
          "base_uri": "https://localhost:8080/"
        },
        "id": "Khb3OYglHpWg",
        "outputId": "f21d3b4f-fc91-4851-9ff6-8094539d54d9"
      },
      "execution_count": 8,
      "outputs": [
        {
          "output_type": "stream",
          "name": "stdout",
          "text": [
            "True\n",
            "6\n"
          ]
        }
      ]
    },
    {
      "cell_type": "code",
      "source": [
        "df_example = df['sepal length in cm'].fillna('example')\n",
        "print(df_example.head())"
      ],
      "metadata": {
        "colab": {
          "base_uri": "https://localhost:8080/"
        },
        "id": "87RYRmiKH_Je",
        "outputId": "bf07543b-d876-495e-d669-83d1086f41fc"
      },
      "execution_count": 9,
      "outputs": [
        {
          "output_type": "stream",
          "name": "stdout",
          "text": [
            "record\n",
            "0    example\n",
            "1        4.9\n",
            "2    example\n",
            "3        4.6\n",
            "4        5.0\n",
            "Name: sepal length in cm, dtype: object\n"
          ]
        }
      ]
    },
    {
      "cell_type": "code",
      "source": [
        "df_dropped = df.dropna(axis=0)\n",
        "print(df_dropped.head())"
      ],
      "metadata": {
        "colab": {
          "base_uri": "https://localhost:8080/"
        },
        "id": "bJbj90DWIUCB",
        "outputId": "7ebbb23b-9538-483c-e124-ab5a974d8945"
      },
      "execution_count": 10,
      "outputs": [
        {
          "output_type": "stream",
          "name": "stdout",
          "text": [
            "        sepal length in cm  sepal width in cm  petal length in cm  \\\n",
            "record                                                              \n",
            "1                      4.9                3.0                 1.4   \n",
            "3                      4.6                3.1                 1.5   \n",
            "4                      5.0                3.6                 1.4   \n",
            "6                      4.6                3.4                 1.4   \n",
            "7                      5.0                3.4                 1.5   \n",
            "\n",
            "        petal width in cm species  \n",
            "record                             \n",
            "1                     0.2  setosa  \n",
            "3                     0.2  setosa  \n",
            "4                     0.2  setosa  \n",
            "6                     0.3  setosa  \n",
            "7                     0.2  setosa  \n"
          ]
        }
      ]
    },
    {
      "cell_type": "code",
      "source": [
        "df_dropped = df.dropna(axis=1)\n",
        "print(df_dropped.head())"
      ],
      "metadata": {
        "colab": {
          "base_uri": "https://localhost:8080/"
        },
        "id": "qYPI4sWQIhrt",
        "outputId": "505b1de8-42c3-4dad-bd20-d3f6db15cdc5"
      },
      "execution_count": 11,
      "outputs": [
        {
          "output_type": "stream",
          "name": "stdout",
          "text": [
            "Empty DataFrame\n",
            "Columns: []\n",
            "Index: [0, 1, 2, 3, 4]\n"
          ]
        }
      ]
    },
    {
      "cell_type": "code",
      "source": [
        "from sklearn.impute import SimpleImputer\n",
        "import numpy as n\n",
        "imputer = SimpleImputer(missing_values = np.nan, strategy = 'mean')\n",
        "cols=['sepal length in cm',\n",
        "      'sepal width in cm',\n",
        "      'petal length in cm',\n",
        "      'petal width in cm',]"
      ],
      "metadata": {
        "id": "DN6Xb2OBIoGT"
      },
      "execution_count": 12,
      "outputs": []
    },
    {
      "cell_type": "code",
      "source": [
        "import pandas as pd\n",
        "df = pd.read_csv('/content/drive/MyDrive/data/실습에 사용되는 파일2-20230314/iris_missing_values.csv')\n",
        "df.index.name = 'record'\n",
        "print(df.head())"
      ],
      "metadata": {
        "colab": {
          "base_uri": "https://localhost:8080/"
        },
        "id": "bOEGKYDXJGlr",
        "outputId": "d8dbd68c-229a-4d2c-c766-1c3ddeef7c1e"
      },
      "execution_count": 13,
      "outputs": [
        {
          "output_type": "stream",
          "name": "stdout",
          "text": [
            "        sepal length in cm  sepal width in cm  petal length in cm  \\\n",
            "record                                                              \n",
            "0                      NaN                3.5                 1.4   \n",
            "1                      4.9                3.0                 1.4   \n",
            "2                      NaN                3.2                 1.3   \n",
            "3                      4.6                3.1                 1.5   \n",
            "4                      5.0                3.6                 1.4   \n",
            "\n",
            "        petal width in cm species  \n",
            "record                             \n",
            "0                     0.2  setosa  \n",
            "1                     0.2  setosa  \n",
            "2                     0.2  setosa  \n",
            "3                     0.2  setosa  \n",
            "4                     0.2  setosa  \n"
          ]
        }
      ]
    },
    {
      "cell_type": "code",
      "source": [
        "out_imp = imputer.fit_transform(df[cols])\n",
        "df_new = pd.DataFrame(data = out_imp, columns = cols)\n",
        "df_new = pd.concat([df_new, df[['species']]], axis = 1)\n",
        "print(df_new.head())"
      ],
      "metadata": {
        "colab": {
          "base_uri": "https://localhost:8080/"
        },
        "id": "9BqryerkNA2e",
        "outputId": "b48b1619-f7c2-4c4c-bbd2-810fbf3db532"
      },
      "execution_count": 14,
      "outputs": [
        {
          "output_type": "stream",
          "name": "stdout",
          "text": [
            "   sepal length in cm  sepal width in cm  petal length in cm  \\\n",
            "0            5.870139                3.5                 1.4   \n",
            "1            4.900000                3.0                 1.4   \n",
            "2            5.870139                3.2                 1.3   \n",
            "3            4.600000                3.1                 1.5   \n",
            "4            5.000000                3.6                 1.4   \n",
            "\n",
            "   petal width in cm species  \n",
            "0                0.2  setosa  \n",
            "1                0.2  setosa  \n",
            "2                0.2  setosa  \n",
            "3                0.2  setosa  \n",
            "4                0.2  setosa  \n"
          ]
        }
      ]
    },
    {
      "cell_type": "code",
      "source": [
        "price = np.random.randint(100, size=8)*10000\n",
        "cars = pd.DataFrame(price, columns=['price'])\n",
        "cars"
      ],
      "metadata": {
        "colab": {
          "base_uri": "https://localhost:8080/",
          "height": 300
        },
        "id": "cNpQhJqmNgwr",
        "outputId": "190703f7-1272-453f-f370-ea746c59a47e"
      },
      "execution_count": 15,
      "outputs": [
        {
          "output_type": "execute_result",
          "data": {
            "text/plain": [
              "    price\n",
              "0  170000\n",
              "1  690000\n",
              "2  420000\n",
              "3  520000\n",
              "4  340000\n",
              "5  780000\n",
              "6  540000\n",
              "7  650000"
            ],
            "text/html": [
              "\n",
              "  <div id=\"df-3557df42-acac-48ea-827c-dffcf4e71865\">\n",
              "    <div class=\"colab-df-container\">\n",
              "      <div>\n",
              "<style scoped>\n",
              "    .dataframe tbody tr th:only-of-type {\n",
              "        vertical-align: middle;\n",
              "    }\n",
              "\n",
              "    .dataframe tbody tr th {\n",
              "        vertical-align: top;\n",
              "    }\n",
              "\n",
              "    .dataframe thead th {\n",
              "        text-align: right;\n",
              "    }\n",
              "</style>\n",
              "<table border=\"1\" class=\"dataframe\">\n",
              "  <thead>\n",
              "    <tr style=\"text-align: right;\">\n",
              "      <th></th>\n",
              "      <th>price</th>\n",
              "    </tr>\n",
              "  </thead>\n",
              "  <tbody>\n",
              "    <tr>\n",
              "      <th>0</th>\n",
              "      <td>170000</td>\n",
              "    </tr>\n",
              "    <tr>\n",
              "      <th>1</th>\n",
              "      <td>690000</td>\n",
              "    </tr>\n",
              "    <tr>\n",
              "      <th>2</th>\n",
              "      <td>420000</td>\n",
              "    </tr>\n",
              "    <tr>\n",
              "      <th>3</th>\n",
              "      <td>520000</td>\n",
              "    </tr>\n",
              "    <tr>\n",
              "      <th>4</th>\n",
              "      <td>340000</td>\n",
              "    </tr>\n",
              "    <tr>\n",
              "      <th>5</th>\n",
              "      <td>780000</td>\n",
              "    </tr>\n",
              "    <tr>\n",
              "      <th>6</th>\n",
              "      <td>540000</td>\n",
              "    </tr>\n",
              "    <tr>\n",
              "      <th>7</th>\n",
              "      <td>650000</td>\n",
              "    </tr>\n",
              "  </tbody>\n",
              "</table>\n",
              "</div>\n",
              "      <button class=\"colab-df-convert\" onclick=\"convertToInteractive('df-3557df42-acac-48ea-827c-dffcf4e71865')\"\n",
              "              title=\"Convert this dataframe to an interactive table.\"\n",
              "              style=\"display:none;\">\n",
              "        \n",
              "  <svg xmlns=\"http://www.w3.org/2000/svg\" height=\"24px\"viewBox=\"0 0 24 24\"\n",
              "       width=\"24px\">\n",
              "    <path d=\"M0 0h24v24H0V0z\" fill=\"none\"/>\n",
              "    <path d=\"M18.56 5.44l.94 2.06.94-2.06 2.06-.94-2.06-.94-.94-2.06-.94 2.06-2.06.94zm-11 1L8.5 8.5l.94-2.06 2.06-.94-2.06-.94L8.5 2.5l-.94 2.06-2.06.94zm10 10l.94 2.06.94-2.06 2.06-.94-2.06-.94-.94-2.06-.94 2.06-2.06.94z\"/><path d=\"M17.41 7.96l-1.37-1.37c-.4-.4-.92-.59-1.43-.59-.52 0-1.04.2-1.43.59L10.3 9.45l-7.72 7.72c-.78.78-.78 2.05 0 2.83L4 21.41c.39.39.9.59 1.41.59.51 0 1.02-.2 1.41-.59l7.78-7.78 2.81-2.81c.8-.78.8-2.07 0-2.86zM5.41 20L4 18.59l7.72-7.72 1.47 1.35L5.41 20z\"/>\n",
              "  </svg>\n",
              "      </button>\n",
              "      \n",
              "  <style>\n",
              "    .colab-df-container {\n",
              "      display:flex;\n",
              "      flex-wrap:wrap;\n",
              "      gap: 12px;\n",
              "    }\n",
              "\n",
              "    .colab-df-convert {\n",
              "      background-color: #E8F0FE;\n",
              "      border: none;\n",
              "      border-radius: 50%;\n",
              "      cursor: pointer;\n",
              "      display: none;\n",
              "      fill: #1967D2;\n",
              "      height: 32px;\n",
              "      padding: 0 0 0 0;\n",
              "      width: 32px;\n",
              "    }\n",
              "\n",
              "    .colab-df-convert:hover {\n",
              "      background-color: #E2EBFA;\n",
              "      box-shadow: 0px 1px 2px rgba(60, 64, 67, 0.3), 0px 1px 3px 1px rgba(60, 64, 67, 0.15);\n",
              "      fill: #174EA6;\n",
              "    }\n",
              "\n",
              "    [theme=dark] .colab-df-convert {\n",
              "      background-color: #3B4455;\n",
              "      fill: #D2E3FC;\n",
              "    }\n",
              "\n",
              "    [theme=dark] .colab-df-convert:hover {\n",
              "      background-color: #434B5C;\n",
              "      box-shadow: 0px 1px 3px 1px rgba(0, 0, 0, 0.15);\n",
              "      filter: drop-shadow(0px 1px 2px rgba(0, 0, 0, 0.3));\n",
              "      fill: #FFFFFF;\n",
              "    }\n",
              "  </style>\n",
              "\n",
              "      <script>\n",
              "        const buttonEl =\n",
              "          document.querySelector('#df-3557df42-acac-48ea-827c-dffcf4e71865 button.colab-df-convert');\n",
              "        buttonEl.style.display =\n",
              "          google.colab.kernel.accessAllowed ? 'block' : 'none';\n",
              "\n",
              "        async function convertToInteractive(key) {\n",
              "          const element = document.querySelector('#df-3557df42-acac-48ea-827c-dffcf4e71865');\n",
              "          const dataTable =\n",
              "            await google.colab.kernel.invokeFunction('convertToInteractive',\n",
              "                                                     [key], {});\n",
              "          if (!dataTable) return;\n",
              "\n",
              "          const docLinkHtml = 'Like what you see? Visit the ' +\n",
              "            '<a target=\"_blank\" href=https://colab.research.google.com/notebooks/data_table.ipynb>data table notebook</a>'\n",
              "            + ' to learn more about interactive tables.';\n",
              "          element.innerHTML = '';\n",
              "          dataTable['output_type'] = 'display_data';\n",
              "          await google.colab.output.renderOutput(dataTable, element);\n",
              "          const docLink = document.createElement('div');\n",
              "          docLink.innerHTML = docLinkHtml;\n",
              "          element.appendChild(docLink);\n",
              "        }\n",
              "      </script>\n",
              "    </div>\n",
              "  </div>\n",
              "  "
            ]
          },
          "metadata": {},
          "execution_count": 15
        }
      ]
    },
    {
      "cell_type": "code",
      "source": [
        "group_names = ['low', 'mid', 'high']\n",
        "cars['level'], mybin = pd.cut(cars['price'], 3, labels = group_names, retbins=True)\n",
        "cars"
      ],
      "metadata": {
        "colab": {
          "base_uri": "https://localhost:8080/",
          "height": 300
        },
        "id": "kbFx0myMN5Bf",
        "outputId": "6d314848-a983-4824-bb7e-b264101cc050"
      },
      "execution_count": 17,
      "outputs": [
        {
          "output_type": "execute_result",
          "data": {
            "text/plain": [
              "    price level\n",
              "0  170000   low\n",
              "1  690000  high\n",
              "2  420000   mid\n",
              "3  520000   mid\n",
              "4  340000   low\n",
              "5  780000  high\n",
              "6  540000   mid\n",
              "7  650000  high"
            ],
            "text/html": [
              "\n",
              "  <div id=\"df-64104921-65b2-4fcc-b551-a6346270212f\">\n",
              "    <div class=\"colab-df-container\">\n",
              "      <div>\n",
              "<style scoped>\n",
              "    .dataframe tbody tr th:only-of-type {\n",
              "        vertical-align: middle;\n",
              "    }\n",
              "\n",
              "    .dataframe tbody tr th {\n",
              "        vertical-align: top;\n",
              "    }\n",
              "\n",
              "    .dataframe thead th {\n",
              "        text-align: right;\n",
              "    }\n",
              "</style>\n",
              "<table border=\"1\" class=\"dataframe\">\n",
              "  <thead>\n",
              "    <tr style=\"text-align: right;\">\n",
              "      <th></th>\n",
              "      <th>price</th>\n",
              "      <th>level</th>\n",
              "    </tr>\n",
              "  </thead>\n",
              "  <tbody>\n",
              "    <tr>\n",
              "      <th>0</th>\n",
              "      <td>170000</td>\n",
              "      <td>low</td>\n",
              "    </tr>\n",
              "    <tr>\n",
              "      <th>1</th>\n",
              "      <td>690000</td>\n",
              "      <td>high</td>\n",
              "    </tr>\n",
              "    <tr>\n",
              "      <th>2</th>\n",
              "      <td>420000</td>\n",
              "      <td>mid</td>\n",
              "    </tr>\n",
              "    <tr>\n",
              "      <th>3</th>\n",
              "      <td>520000</td>\n",
              "      <td>mid</td>\n",
              "    </tr>\n",
              "    <tr>\n",
              "      <th>4</th>\n",
              "      <td>340000</td>\n",
              "      <td>low</td>\n",
              "    </tr>\n",
              "    <tr>\n",
              "      <th>5</th>\n",
              "      <td>780000</td>\n",
              "      <td>high</td>\n",
              "    </tr>\n",
              "    <tr>\n",
              "      <th>6</th>\n",
              "      <td>540000</td>\n",
              "      <td>mid</td>\n",
              "    </tr>\n",
              "    <tr>\n",
              "      <th>7</th>\n",
              "      <td>650000</td>\n",
              "      <td>high</td>\n",
              "    </tr>\n",
              "  </tbody>\n",
              "</table>\n",
              "</div>\n",
              "      <button class=\"colab-df-convert\" onclick=\"convertToInteractive('df-64104921-65b2-4fcc-b551-a6346270212f')\"\n",
              "              title=\"Convert this dataframe to an interactive table.\"\n",
              "              style=\"display:none;\">\n",
              "        \n",
              "  <svg xmlns=\"http://www.w3.org/2000/svg\" height=\"24px\"viewBox=\"0 0 24 24\"\n",
              "       width=\"24px\">\n",
              "    <path d=\"M0 0h24v24H0V0z\" fill=\"none\"/>\n",
              "    <path d=\"M18.56 5.44l.94 2.06.94-2.06 2.06-.94-2.06-.94-.94-2.06-.94 2.06-2.06.94zm-11 1L8.5 8.5l.94-2.06 2.06-.94-2.06-.94L8.5 2.5l-.94 2.06-2.06.94zm10 10l.94 2.06.94-2.06 2.06-.94-2.06-.94-.94-2.06-.94 2.06-2.06.94z\"/><path d=\"M17.41 7.96l-1.37-1.37c-.4-.4-.92-.59-1.43-.59-.52 0-1.04.2-1.43.59L10.3 9.45l-7.72 7.72c-.78.78-.78 2.05 0 2.83L4 21.41c.39.39.9.59 1.41.59.51 0 1.02-.2 1.41-.59l7.78-7.78 2.81-2.81c.8-.78.8-2.07 0-2.86zM5.41 20L4 18.59l7.72-7.72 1.47 1.35L5.41 20z\"/>\n",
              "  </svg>\n",
              "      </button>\n",
              "      \n",
              "  <style>\n",
              "    .colab-df-container {\n",
              "      display:flex;\n",
              "      flex-wrap:wrap;\n",
              "      gap: 12px;\n",
              "    }\n",
              "\n",
              "    .colab-df-convert {\n",
              "      background-color: #E8F0FE;\n",
              "      border: none;\n",
              "      border-radius: 50%;\n",
              "      cursor: pointer;\n",
              "      display: none;\n",
              "      fill: #1967D2;\n",
              "      height: 32px;\n",
              "      padding: 0 0 0 0;\n",
              "      width: 32px;\n",
              "    }\n",
              "\n",
              "    .colab-df-convert:hover {\n",
              "      background-color: #E2EBFA;\n",
              "      box-shadow: 0px 1px 2px rgba(60, 64, 67, 0.3), 0px 1px 3px 1px rgba(60, 64, 67, 0.15);\n",
              "      fill: #174EA6;\n",
              "    }\n",
              "\n",
              "    [theme=dark] .colab-df-convert {\n",
              "      background-color: #3B4455;\n",
              "      fill: #D2E3FC;\n",
              "    }\n",
              "\n",
              "    [theme=dark] .colab-df-convert:hover {\n",
              "      background-color: #434B5C;\n",
              "      box-shadow: 0px 1px 3px 1px rgba(0, 0, 0, 0.15);\n",
              "      filter: drop-shadow(0px 1px 2px rgba(0, 0, 0, 0.3));\n",
              "      fill: #FFFFFF;\n",
              "    }\n",
              "  </style>\n",
              "\n",
              "      <script>\n",
              "        const buttonEl =\n",
              "          document.querySelector('#df-64104921-65b2-4fcc-b551-a6346270212f button.colab-df-convert');\n",
              "        buttonEl.style.display =\n",
              "          google.colab.kernel.accessAllowed ? 'block' : 'none';\n",
              "\n",
              "        async function convertToInteractive(key) {\n",
              "          const element = document.querySelector('#df-64104921-65b2-4fcc-b551-a6346270212f');\n",
              "          const dataTable =\n",
              "            await google.colab.kernel.invokeFunction('convertToInteractive',\n",
              "                                                     [key], {});\n",
              "          if (!dataTable) return;\n",
              "\n",
              "          const docLinkHtml = 'Like what you see? Visit the ' +\n",
              "            '<a target=\"_blank\" href=https://colab.research.google.com/notebooks/data_table.ipynb>data table notebook</a>'\n",
              "            + ' to learn more about interactive tables.';\n",
              "          element.innerHTML = '';\n",
              "          dataTable['output_type'] = 'display_data';\n",
              "          await google.colab.output.renderOutput(dataTable, element);\n",
              "          const docLink = document.createElement('div');\n",
              "          docLink.innerHTML = docLinkHtml;\n",
              "          element.appendChild(docLink);\n",
              "        }\n",
              "      </script>\n",
              "    </div>\n",
              "  </div>\n",
              "  "
            ]
          },
          "metadata": {},
          "execution_count": 17
        }
      ]
    },
    {
      "cell_type": "code",
      "source": [
        "mybin"
      ],
      "metadata": {
        "colab": {
          "base_uri": "https://localhost:8080/"
        },
        "id": "JI-P4zIGON0b",
        "outputId": "bffcf5bd-8721-47c1-c78b-bc00b7197843"
      },
      "execution_count": 18,
      "outputs": [
        {
          "output_type": "execute_result",
          "data": {
            "text/plain": [
              "array([169390.        , 373333.33333333, 576666.66666667, 780000.        ])"
            ]
          },
          "metadata": {},
          "execution_count": 18
        }
      ]
    },
    {
      "cell_type": "code",
      "source": [
        "df = pd.read_csv(\"/content/drive/MyDrive/data/실습에 사용되는 파일2-20230314/iris.csv\"); df.index.name = 'record'\n",
        "cols = ['sepal length in cm',\n",
        "        'sepal width in cm',\n",
        "        'petal length in cm',\n",
        "        'petal width in cm',]"
      ],
      "metadata": {
        "id": "X8YLDPLwOQoJ"
      },
      "execution_count": 19,
      "outputs": []
    },
    {
      "cell_type": "code",
      "source": [
        "from sklearn.preprocessing import MinMaxScaler\n",
        "scaler = MinMaxScaler()\n",
        "out_scaled = scaler.fit_transform(df[cols])\n",
        "print(out_scaled[:10])"
      ],
      "metadata": {
        "colab": {
          "base_uri": "https://localhost:8080/"
        },
        "id": "YppbyWlLOqYy",
        "outputId": "d6cafad5-55e6-42b9-efd4-2e7288506a7e"
      },
      "execution_count": 20,
      "outputs": [
        {
          "output_type": "stream",
          "name": "stdout",
          "text": [
            "[[0.22222222 0.625      0.06779661 0.04166667]\n",
            " [0.16666667 0.41666667 0.06779661 0.04166667]\n",
            " [0.11111111 0.5        0.05084746 0.04166667]\n",
            " [0.08333333 0.45833333 0.08474576 0.04166667]\n",
            " [0.19444444 0.66666667 0.06779661 0.04166667]\n",
            " [0.30555556 0.79166667 0.11864407 0.125     ]\n",
            " [0.08333333 0.58333333 0.06779661 0.08333333]\n",
            " [0.19444444 0.58333333 0.08474576 0.04166667]\n",
            " [0.02777778 0.375      0.06779661 0.04166667]\n",
            " [0.16666667 0.45833333 0.08474576 0.        ]]\n"
          ]
        }
      ]
    },
    {
      "cell_type": "code",
      "source": [
        "from sklearn.preprocessing import StandardScaler\n",
        "scaler = StandardScaler()\n",
        "out_scaled = scaler.fit_transform(df[cols])\n",
        "print(out_scaled[:10])"
      ],
      "metadata": {
        "colab": {
          "base_uri": "https://localhost:8080/"
        },
        "id": "kIQJq3aZPBvo",
        "outputId": "5c9e8b21-37ed-4d28-8ff7-ef8b53aadae0"
      },
      "execution_count": 21,
      "outputs": [
        {
          "output_type": "stream",
          "name": "stdout",
          "text": [
            "[[-0.90068117  1.03205722 -1.3412724  -1.31297673]\n",
            " [-1.14301691 -0.1249576  -1.3412724  -1.31297673]\n",
            " [-1.38535265  0.33784833 -1.39813811 -1.31297673]\n",
            " [-1.50652052  0.10644536 -1.2844067  -1.31297673]\n",
            " [-1.02184904  1.26346019 -1.3412724  -1.31297673]\n",
            " [-0.53717756  1.95766909 -1.17067529 -1.05003079]\n",
            " [-1.50652052  0.80065426 -1.3412724  -1.18150376]\n",
            " [-1.02184904  0.80065426 -1.2844067  -1.31297673]\n",
            " [-1.74885626 -0.35636057 -1.3412724  -1.31297673]\n",
            " [-1.14301691  0.10644536 -1.2844067  -1.4444497 ]]\n"
          ]
        }
      ]
    },
    {
      "cell_type": "code",
      "source": [
        "df = pd.read_csv(\"/content/drive/MyDrive/data/실습에 사용되는 파일2-20230314/long_jump.csv\")\n",
        "df.set_index('Person', inplace=True)"
      ],
      "metadata": {
        "id": "4Bv6-eSBPqKV"
      },
      "execution_count": 26,
      "outputs": []
    },
    {
      "cell_type": "code",
      "source": [
        "cats=['Jersey Size', 'Shoe Size']\n",
        "print(df[cats])"
      ],
      "metadata": {
        "colab": {
          "base_uri": "https://localhost:8080/"
        },
        "id": "qh3HoesOQclO",
        "outputId": "d5e8deab-c85c-4312-c085-e1b168f36c39"
      },
      "execution_count": 31,
      "outputs": [
        {
          "output_type": "stream",
          "name": "stdout",
          "text": [
            "         Jersey Size  Shoe Size\n",
            "Person                         \n",
            "Thomas           2.0        0.0\n",
            "Jane             1.0        2.0\n",
            "Vaughn           0.0        3.0\n",
            "Vera             1.0        1.0\n",
            "Vincent          0.0        3.0\n",
            "Lei-Ann          2.0        0.0\n"
          ]
        }
      ]
    },
    {
      "cell_type": "code",
      "source": [
        "from sklearn.preprocessing import OrdinalEncoder\n",
        "enc = OrdinalEncoder()\n",
        "out_enc = enc.fit_transform(df[cats])\n",
        "print('identified categories:')\n",
        "print(enc.categories_)\n",
        "print('encoded data:')\n",
        "print(out_enc)"
      ],
      "metadata": {
        "colab": {
          "base_uri": "https://localhost:8080/"
        },
        "id": "A6nlRvwgQk5Y",
        "outputId": "e1825cdf-6532-4255-f646-5b6944c49e91"
      },
      "execution_count": 32,
      "outputs": [
        {
          "output_type": "stream",
          "name": "stdout",
          "text": [
            "identified categories:\n",
            "[array([0., 1., 2.]), array([0., 1., 2., 3.])]\n",
            "encoded data:\n",
            "[[2. 0.]\n",
            " [1. 2.]\n",
            " [0. 3.]\n",
            " [1. 1.]\n",
            " [0. 3.]\n",
            " [2. 0.]]\n"
          ]
        }
      ]
    },
    {
      "cell_type": "code",
      "source": [
        "df[cats] = out_enc\n",
        "print(df.head())"
      ],
      "metadata": {
        "colab": {
          "base_uri": "https://localhost:8080/"
        },
        "id": "CvXreSaVQ_zG",
        "outputId": "81b5e033-8843-41e4-cba8-520ab50effeb"
      },
      "execution_count": 33,
      "outputs": [
        {
          "output_type": "stream",
          "name": "stdout",
          "text": [
            "         Age  Height  Weight  Training Hours/week Jersey Color  Jersey Size  \\\n",
            "Person                                                                        \n",
            "Thomas    12    57.5    73.4                  6.5         blue          2.0   \n",
            "Jane      13    65.5    85.3                  8.9        green          1.0   \n",
            "Vaughn    17    71.9   125.9                  1.1        green          0.0   \n",
            "Vera      14    65.3   100.5                  7.9          red          1.0   \n",
            "Vincent   18    70.1   110.7                 10.5         blue          0.0   \n",
            "\n",
            "         Shoe Size  Long Jump  \n",
            "Person                         \n",
            "Thomas         0.0       19.2  \n",
            "Jane           2.0       25.1  \n",
            "Vaughn         3.0       14.3  \n",
            "Vera           1.0       18.3  \n",
            "Vincent        3.0       21.1  \n"
          ]
        }
      ]
    },
    {
      "cell_type": "code",
      "source": [
        "from sklearn.preprocessing import OneHotEncoder\n",
        "enc = OneHotEncoder(sparse = False)\n",
        "out_enc = enc.fit_transform(df[cats])\n",
        "new_cols = enc.get_feature_names_out(cats).tolist()\n",
        "print(new_cols)"
      ],
      "metadata": {
        "colab": {
          "base_uri": "https://localhost:8080/"
        },
        "id": "kIhnbJO6RFk9",
        "outputId": "ccd5370d-4f0d-400b-fc28-a8b752ad883c"
      },
      "execution_count": 35,
      "outputs": [
        {
          "output_type": "stream",
          "name": "stdout",
          "text": [
            "['Jersey Size_0.0', 'Jersey Size_1.0', 'Jersey Size_2.0', 'Shoe Size_0.0', 'Shoe Size_1.0', 'Shoe Size_2.0', 'Shoe Size_3.0']\n"
          ]
        },
        {
          "output_type": "stream",
          "name": "stderr",
          "text": [
            "/usr/local/lib/python3.9/dist-packages/sklearn/preprocessing/_encoders.py:868: FutureWarning: `sparse` was renamed to `sparse_output` in version 1.2 and will be removed in 1.4. `sparse_output` is ignored unless you leave `sparse` to its default value.\n",
            "  warnings.warn(\n"
          ]
        }
      ]
    },
    {
      "cell_type": "code",
      "source": [
        "df_enc = pd.DataFrame(data = out_enc, columns = new_cols)\n",
        "df_enc.index = df.index\n",
        "df.drop(cats, axis = 1, inplace=True)\n",
        "df = pd.concat([df, df_enc], axis = 1)\n",
        "print(df.columns)"
      ],
      "metadata": {
        "colab": {
          "base_uri": "https://localhost:8080/"
        },
        "id": "6Xf5Kz3cSYRT",
        "outputId": "4cc74b97-5813-4b8c-97cc-163b68a6bc24"
      },
      "execution_count": 37,
      "outputs": [
        {
          "output_type": "stream",
          "name": "stdout",
          "text": [
            "Index(['Age', 'Height', 'Weight', 'Training Hours/week', 'Jersey Color',\n",
            "       'Long Jump', 'Jersey Size_0.0', 'Jersey Size_1.0', 'Jersey Size_2.0',\n",
            "       'Shoe Size_0.0', 'Shoe Size_1.0', 'Shoe Size_2.0', 'Shoe Size_3.0'],\n",
            "      dtype='object')\n"
          ]
        }
      ]
    },
    {
      "cell_type": "code",
      "source": [
        "from sklearn import preprocessing\n",
        "enc = preprocessing.LabelEncoder()\n",
        "out_enc = enc.fit_transform([1, 2, 5, 2, 4, 2, 5])\n",
        "print(out_enc)\n",
        "out_enc = enc.fit_transform([\"blue\", \"red\", \"blue\", \"green\", \"red\", \"red\"])\n",
        "print(out_enc)"
      ],
      "metadata": {
        "colab": {
          "base_uri": "https://localhost:8080/"
        },
        "id": "UrWqz2iRTBsK",
        "outputId": "16a9212e-27fb-4c1e-cf7e-4cce778ab1a5"
      },
      "execution_count": 40,
      "outputs": [
        {
          "output_type": "stream",
          "name": "stdout",
          "text": [
            "[0 1 3 1 2 1 3]\n",
            "[0 2 0 1 2 2]\n"
          ]
        }
      ]
    },
    {
      "cell_type": "code",
      "source": [],
      "metadata": {
        "id": "lP9ZlN2TfAB3"
      },
      "execution_count": null,
      "outputs": []
    }
  ]
}