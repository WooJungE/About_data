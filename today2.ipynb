{
 "cells": [
  {
   "cell_type": "code",
   "execution_count": 3,
   "metadata": {},
   "outputs": [],
   "source": [
    "from selenium import webdriver\n",
    "\n",
    "driver = webdriver.Chrome(\"chromedriver\") # 윈도우라면 chromedriver.exe"
   ]
  },
  {
   "cell_type": "code",
   "execution_count": 4,
   "metadata": {},
   "outputs": [],
   "source": [
    "driver.get(\"https://google.com\")"
   ]
  },
  {
   "cell_type": "code",
   "execution_count": 5,
   "metadata": {},
   "outputs": [
    {
     "name": "stderr",
     "output_type": "stream",
     "text": [
      "[WDM] - Downloading: 100%|██████████| 6.46M/6.46M [00:02<00:00, 2.27MB/s]\n"
     ]
    }
   ],
   "source": [
    "# selenium 4\n",
    "from selenium import webdriver\n",
    "from selenium.webdriver.chrome.service import Service as ChromeService\n",
    "from webdriver_manager.chrome import ChromeDriverManager\n",
    "\n",
    "driver = webdriver.Chrome(service=ChromeService(ChromeDriverManager().install()))"
   ]
  },
  {
   "cell_type": "code",
   "execution_count": 6,
   "metadata": {},
   "outputs": [],
   "source": [
    "import time\n",
    "from selenium.webdriver.common.by import By\n",
    "\n",
    "driver.get(\"https://google.com\")\n",
    "element = driver.find_element(\n",
    "    By.XPATH, \"/html/body/div[1]/div[3]/form/div[1]/div[1]/div[1]/div/div[2]/input\"\n",
    ")\n",
    "\n",
    "element.send_keys(\n",
    "    \"Python\\n\",\n",
    ")\n",
    "time.sleep(1)\n",
    "assert driver.current_url.startswith(\"https://www.google.com/search?q=Python\")"
   ]
  },
  {
   "cell_type": "code",
   "execution_count": 7,
   "metadata": {},
   "outputs": [],
   "source": [
    "keyword = \"떡볶이\"\n",
    "\n",
    "base_url = f\"https://www.youtube.com/results?search_query={keyword}&sp=EgIQAQ%253D%253D\"\n",
    "driver.get(base_url)\n",
    "time.sleep(10)"
   ]
  },
  {
   "cell_type": "code",
   "execution_count": 8,
   "metadata": {},
   "outputs": [],
   "source": [
    "base_xpath = \"/html/body/ytd-app/div[1]/ytd-page-manager/ytd-search/div[1]/ytd-two-column-search-results-renderer/div/ytd-section-list-renderer/div[2]/ytd-item-section-renderer/div[3]/ytd-video-renderer/div[1]\"\n",
    "video_element = driver.find_element('xpath', base_xpath)"
   ]
  },
  {
   "cell_type": "code",
   "execution_count": 9,
   "metadata": {},
   "outputs": [],
   "source": [
    "video_xpath = \"./div/div[1]/div/h3/a\"\n",
    "video = video_element.find_element('xpath', video_xpath)\n",
    "video_title = video.text"
   ]
  },
  {
   "cell_type": "code",
   "execution_count": 10,
   "metadata": {},
   "outputs": [],
   "source": [
    "channel_xpath = \"./div/div[2]/ytd-channel-name/div/div/yt-formatted-string/a\"\n",
    "channel_name = video_element.find_element('xpath', channel_xpath).text"
   ]
  },
  {
   "cell_type": "code",
   "execution_count": 11,
   "metadata": {},
   "outputs": [
    {
     "name": "stdout",
     "output_type": "stream",
     "text": [
      "https://www.youtube.com/watch?v=t4Es8mwdYlE 백종원 PAIK JONG WON 분식집st 떡 볶 이🎉\n"
     ]
    }
   ],
   "source": [
    "# get url, but skip shorts\n",
    "url = video.get_attribute(\"href\")\n",
    "\n",
    "print(url, channel_name, video_title)"
   ]
  },
  {
   "cell_type": "code",
   "execution_count": 13,
   "metadata": {},
   "outputs": [
    {
     "ename": "KeyboardInterrupt",
     "evalue": "",
     "output_type": "error",
     "traceback": [
      "\u001b[1;31m---------------------------------------------------------------------------\u001b[0m",
      "\u001b[1;31mKeyboardInterrupt\u001b[0m                         Traceback (most recent call last)",
      "Cell \u001b[1;32mIn[13], line 11\u001b[0m\n\u001b[0;32m      9\u001b[0m     \u001b[39mbreak\u001b[39;00m\n\u001b[0;32m     10\u001b[0m driver\u001b[39m.\u001b[39mexecute_script(\u001b[39mf\u001b[39m\u001b[39m\"\u001b[39m\u001b[39mwindow.scrollTo(0, \u001b[39m\u001b[39m{\u001b[39;00mscroll\u001b[39m}\u001b[39;00m\u001b[39m);\u001b[39m\u001b[39m\"\u001b[39m)\n\u001b[1;32m---> 11\u001b[0m time\u001b[39m.\u001b[39msleep(\u001b[39m2\u001b[39m)\n\u001b[0;32m     13\u001b[0m scroll \u001b[39m+\u001b[39m\u001b[39m=\u001b[39m \u001b[39m10000\u001b[39m\n",
      "\u001b[1;31mKeyboardInterrupt\u001b[0m: "
     ]
    }
   ],
   "source": [
    "import time\n",
    "\n",
    "# Scroll to the bottom\n",
    "stop_xpath = '//*[@id=\"message\"]'\n",
    "scroll = 10000\n",
    "idx = 0\n",
    "while True:\n",
    "    if driver.find_element('xpath', stop_xpath).text in [\"No more results\", \"결과가 더 이상 없습니다.\"]:\n",
    "        break\n",
    "    driver.execute_script(f\"window.scrollTo(0, {scroll});\")\n",
    "    time.sleep(2)\n",
    "\n",
    "    scroll += 10000"
   ]
  },
  {
   "cell_type": "code",
   "execution_count": 14,
   "metadata": {},
   "outputs": [
    {
     "data": {
      "text/plain": [
       "{'': {'channel_name': '',\n",
       "  'url': 'https://www.youtube.com/watch?v=MHG2D7AcazY'}}"
      ]
     },
     "execution_count": 14,
     "metadata": {},
     "output_type": "execute_result"
    }
   ],
   "source": [
    "# Extract data\n",
    "data = {}\n",
    "base_xpath = \"/html/body/ytd-app/div[1]/ytd-page-manager/ytd-search/div[1]/ytd-two-column-search-results-renderer/div/ytd-section-list-renderer/div[2]/ytd-item-section-renderer/div[3]/ytd-video-renderer/div[1]\"\n",
    "video_elements = driver.find_elements('xpath', base_xpath)\n",
    "\n",
    "for video_element in video_elements:\n",
    "    video_xpath = \"./div/div[1]/div/h3/a\"\n",
    "    video = video_element.find_element('xpath', video_xpath)\n",
    "    video_title = video.text\n",
    "\n",
    "    # get channel name\n",
    "    channel_xpath = (\n",
    "        \"./div/div[2]/ytd-channel-name/div/div/yt-formatted-string/a\"\n",
    "    )\n",
    "    channel_name = video_element.find_element('xpath', channel_xpath).text\n",
    "\n",
    "    url = video.get_attribute(\"href\")\n",
    "\n",
    "    data[video_title] = {\n",
    "        \"channel_name\": channel_name,\n",
    "        \"url\": url,\n",
    "    }\n",
    "\n",
    "data"
   ]
  },
  {
   "cell_type": "code",
   "execution_count": 15,
   "metadata": {},
   "outputs": [],
   "source": [
    "import time\n",
    "\n",
    "driver.get('https://datavalue.dunamu.com/feargreedindex')\n",
    "time.sleep(3)"
   ]
  },
  {
   "cell_type": "code",
   "execution_count": null,
   "metadata": {},
   "outputs": [],
   "source": [
    "import time\n",
    "\n",
    "from tqdm import tqdm\n",
    "from selenium_helper import SeleniumBase\n",
    "import pandas as pd\n",
    "\n",
    "# initialized the driver and go to the url\n",
    "sb = SeleniumBase()\n",
    "sb.setup_driver()\n",
    "base_url = 'https://datavalue.dunamu.com/feargreedindex'\n",
    "sb.driver.get(base_url)\n",
    "time.sleep(3)\n",
    "\n",
    "# find the last page number and iterate over\n",
    "last_page_xpath = (\n",
    "    '/html/body/div[2]/div/div[1]/div/div/div[4]/div/div[3]/span/a[6]'\n",
    ")\n",
    "last_page_num = int(sb.driver.find_element('xpath', last_page_xpath).text)\n",
    "\n",
    "result = pd.DataFrame()\n",
    "next_button_xpath = '//*[@id=\"table-series_next\"]'\n",
    "for _ in tqdm(range(1, last_page_num)):\n",
    "    # extract HTML table from the page\n",
    "    table_body_xpath = '//*[@id=\"table-series\"]'\n",
    "    table_body_element = sb.driver.find_element(\"xpath\", table_body_xpath)\n",
    "\n",
    "    df = pd.read_html(table_body_element.get_attribute('outerHTML'))[0]\n",
    "    result = pd.concat([result, df])\n",
    "\n",
    "    # go to the next page\n",
    "    sb.click(next_button_xpath)"
   ]
  }
 ],
 "metadata": {
  "kernelspec": {
   "display_name": "Python 3",
   "language": "python",
   "name": "python3"
  },
  "language_info": {
   "codemirror_mode": {
    "name": "ipython",
    "version": 3
   },
   "file_extension": ".py",
   "mimetype": "text/x-python",
   "name": "python",
   "nbconvert_exporter": "python",
   "pygments_lexer": "ipython3",
   "version": "3.11.1"
  },
  "orig_nbformat": 4,
  "vscode": {
   "interpreter": {
    "hash": "8c1234031685ba7dcc370efb50ad1f2f3e36146e1c297b44564a996d07555ef4"
   }
  }
 },
 "nbformat": 4,
 "nbformat_minor": 2
}
