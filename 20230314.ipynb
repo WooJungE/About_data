{
  "nbformat": 4,
  "nbformat_minor": 0,
  "metadata": {
    "colab": {
      "provenance": [],
      "mount_file_id": "1lMol_nQnxCd957YzombjAJOEyREwQVhe",
      "authorship_tag": "ABX9TyNdPgonsBYqdnNSKEg/qIQo",
      "include_colab_link": true
    },
    "kernelspec": {
      "name": "python3",
      "display_name": "Python 3"
    },
    "language_info": {
      "name": "python"
    }
  },
  "cells": [
    {
      "cell_type": "markdown",
      "metadata": {
        "id": "view-in-github",
        "colab_type": "text"
      },
      "source": [
        "<a href=\"https://colab.research.google.com/github/WooJungE/About_data/blob/main/230314.ipynb\" target=\"_parent\"><img src=\"https://colab.research.google.com/assets/colab-badge.svg\" alt=\"Open In Colab\"/></a>"
      ]
    },
    {
      "cell_type": "code",
      "execution_count": null,
      "metadata": {
        "id": "i_kYYNV0wbns"
      },
      "outputs": [],
      "source": []
    },
    {
      "cell_type": "code",
      "source": [
        "from google.colab import drive\n",
        "drive.mount('/content/drive')"
      ],
      "metadata": {
        "colab": {
          "base_uri": "https://localhost:8080/"
        },
        "id": "aqYIla72wyBn",
        "outputId": "a18f3225-b438-4558-bdd3-499fd924b69b"
      },
      "execution_count": null,
      "outputs": [
        {
          "output_type": "stream",
          "name": "stdout",
          "text": [
            "Drive already mounted at /content/drive; to attempt to forcibly remount, call drive.mount(\"/content/drive\", force_remount=True).\n"
          ]
        }
      ]
    },
    {
      "cell_type": "code",
      "source": [
        "def main():\n",
        "## Display the countries in a specified continent.\n",
        "  continent = input(\"Enter the name of a continent: \")\n",
        "  continent = continent.title() # Allow for all lowercase letters.\n",
        "  if continent != \"Antarctica\":\n",
        "    infile = open(\"/content/drive/MyDrive/data/실습에 사용되는 파일-20230314/UN.txt\", 'r')\n",
        "  for line in infile:\n",
        "    data = line.split(',')\n",
        "    if data[1] == continent:\n",
        "      print(data[0])\n",
        "  else:\n",
        "    print(\"There are no countries in Antarctica.\")\n",
        "\n",
        "main()"
      ],
      "metadata": {
        "colab": {
          "base_uri": "https://localhost:8080/"
        },
        "id": "h--ZmgNE8x3_",
        "outputId": "00011561-fccb-49de-8682-b18478813380"
      },
      "execution_count": null,
      "outputs": [
        {
          "output_type": "stream",
          "name": "stdout",
          "text": [
            "Enter the name of a continent: South America\n",
            "Argentina\n",
            "Bolivia\n",
            "Brazil\n",
            "Chile\n",
            "Colombia\n",
            "Ecuador\n",
            "Guyana\n",
            "Paraguay\n",
            "Peru\n",
            "Suriname\n",
            "Uruguay\n",
            "Venezuela\n",
            "There are no countries in Antarctica.\n"
          ]
        }
      ]
    },
    {
      "cell_type": "code",
      "source": [
        "def main():\n",
        "  d = {}\n",
        "  d[\"spam\"]=3\n",
        "  print(d)\n",
        "  d.update({\"spam\":1, \"eggs\":2})\n",
        "  print(d)\n",
        "  print(\"d has\", len(d), \"items\")\n",
        "  print(\"eggs\" in d)\n",
        "  print(\"keys:\", list(d.keys()))\n",
        "  print(\"values:\",list(d.values()))\n",
        "  for key in d:\n",
        "    print(key, d[key])\n",
        "  print(d.get(\"toast\", \"not in dictionary\"))\n",
        "  del(d[\"eggs\"])\n",
        "  print(d)\n",
        "\n",
        "main()"
      ],
      "metadata": {
        "colab": {
          "base_uri": "https://localhost:8080/"
        },
        "id": "CcEq82Y7xyMA",
        "outputId": "4f850755-0578-40f5-f600-12b007e2313e"
      },
      "execution_count": null,
      "outputs": [
        {
          "output_type": "stream",
          "name": "stdout",
          "text": [
            "{'spam': 3}\n",
            "{'spam': 1, 'eggs': 2}\n",
            "d has 2 items\n",
            "True\n",
            "keys: ['spam', 'eggs']\n",
            "values: [1, 2]\n",
            "spam 1\n",
            "eggs 2\n",
            "not in dictionary\n",
            "{'spam': 1}\n"
          ]
        }
      ]
    },
    {
      "cell_type": "code",
      "source": [
        "def main():\n",
        "  texteseDict = CreateDictionary(\"/content/drive/MyDrive/data/실습에 사용되는 파일2-20230314/Textese.txt\")\n",
        "  print(\"Enter a simple sentence in lowercase letters without\")\n",
        "  sentence = input(\"any puctuation:\")\n",
        "  print()\n",
        "  translate(sentence, texteseDict)\n",
        "\n",
        "def CreateDictionary(fileName):\n",
        "  infile = open(fileName, 'r')\n",
        "  textList = [line.rstrip() for line in infile]\n",
        "  infile.close()\n",
        "  return dict([x.split(',') for x in textList])\n",
        "\n",
        "def translate(sentence, texteseDict):\n",
        "  words = sentence.split()\n",
        "  for word in words:\n",
        "    print(texteseDict.get(word, word) + \" \", end=\"\")\n",
        "\n",
        "main()\n",
        "\n",
        "#enjoy the excellent band tonight\n",
        "#njoy the xlnt b& 2nite "
      ],
      "metadata": {
        "colab": {
          "base_uri": "https://localhost:8080/"
        },
        "id": "iMmc3lZLzcez",
        "outputId": "61bc06f6-446d-467e-8f95-b0a914d1c330"
      },
      "execution_count": null,
      "outputs": [
        {
          "output_type": "stream",
          "name": "stdout",
          "text": [
            "Enter a simple sentence in lowercase letters without\n",
            "any puctuation:enjoy the excellent band tonight\n",
            "\n",
            "njoy the xlnt b& 2nite "
          ]
        }
      ]
    },
    {
      "cell_type": "code",
      "source": [
        "def main():\n",
        "  print(\"Enter the person's age group\", end=\"\")\n",
        "  ageGroup = input(\"(child, minor, adult, or senior):\")\n",
        "  print(\"The admission fee is\",\n",
        "determineAdmissionFee(ageGroup), \"dollars.\")\n",
        "  \n",
        "def determineAdmissionFee(ageGroup):\n",
        "  if ageGroup == \"child\":\n",
        "    return 0\n",
        "  if ageGroup == \"minor\":\n",
        "    return 5\n",
        "  if ageGroup == \"adult\":\n",
        "    return 10\n",
        "  if ageGroup == \"senior\":\n",
        "    return 8\n",
        "\n",
        "main()"
      ],
      "metadata": {
        "colab": {
          "base_uri": "https://localhost:8080/"
        },
        "id": "VzV3UHcH2h_Y",
        "outputId": "28f50412-8fcf-41e8-ef45-41a030faa0c2"
      },
      "execution_count": null,
      "outputs": [
        {
          "output_type": "stream",
          "name": "stdout",
          "text": [
            "Enter the person's age group(child, minor, adult, or senior):adult\n",
            "The admission fee is 10 dollars.\n"
          ]
        }
      ]
    },
    {
      "cell_type": "code",
      "source": [
        "import pickle\n",
        "\n",
        "def main():\n",
        "## Display countries (and their population) from a specified continent.\n",
        "  nations = getDictionary(\"/content/drive/MyDrive/data/실습에 사용되는 파일2-20230314/UNDict.dat\")\n",
        "  continent = input(\"Enter the name of a continent other than Antarctica: \")\n",
        "  continentDict = constructContinentNations(nations, continent)\n",
        "  displaySortedResults(continentDict)\n",
        "\n",
        "def getDictionary(fileName):\n",
        "  infile = open(fileName, 'rb')\n",
        "  nations = pickle.load(infile)\n",
        "  infile.close()\n",
        "  return nations\n",
        "\n",
        "def constructContinentNations(nations, continent):\n",
        "## Reduce the full 193 item dictionary to a dictionary contatining\n",
        "## solely of the countries in the specified continent.\n",
        "  continentDict = {} # an empty dictionary\n",
        "  for nation in nations:\n",
        "    if nations[nation][\"cont\"] == continent:\n",
        "      continentDict[nation] = nations[nation]\n",
        "  return continentDict\n",
        "\n",
        "def displaySortedResults(dictionaryName):\n",
        "## Display countries in descending order by population.\n",
        "  continentList = sorted(dictionaryName.items(), key = lambda k:\n",
        "k[1][\"popl\"], reverse=True)\n",
        "  for k in continentList:\n",
        "    print(\" {0:s}: {1:,.2f}\".format(k[0], k[1][\"popl\"]))\n",
        "\n",
        "main()"
      ],
      "metadata": {
        "colab": {
          "base_uri": "https://localhost:8080/"
        },
        "id": "_zkWpR9J4oRs",
        "outputId": "98f29c8c-c4ba-4e55-b67a-5785818269d5"
      },
      "execution_count": null,
      "outputs": [
        {
          "output_type": "stream",
          "name": "stdout",
          "text": [
            "Enter the name of a continent other than Antarctica: Europe\n",
            " Russian Federation: 142.50\n",
            " Germany: 81.00\n",
            " United Kingdom: 66.70\n",
            " France: 66.30\n",
            " Italy: 61.70\n",
            " Spain: 47.70\n",
            " Ukraine: 44.30\n",
            " Poland: 38.30\n",
            " Romania: 21.70\n",
            " Netherlands: 16.59\n",
            " Greece: 11.80\n",
            " Portugal: 10.90\n",
            " Czech Republic: 10.60\n",
            " Belgium: 10.40\n",
            " Hungary: 10.00\n",
            " Sweden: 9.70\n",
            " Belarus: 9.60\n",
            " Austria: 8.20\n",
            " Switzerland: 8.10\n",
            " Serbia: 7.20\n",
            " Bulgaria: 6.90\n",
            " Denmark: 5.60\n",
            " Slovakia: 5.40\n",
            " Finland: 5.30\n",
            " Norway: 5.10\n",
            " Ireland: 4.80\n",
            " Croatia: 4.50\n",
            " Bosnia and Herzegovina: 3.90\n",
            " Republic of Moldova: 3.60\n",
            " Lithuania: 3.50\n",
            " Albania: 3.00\n",
            " Latvia: 2.20\n",
            " The former Yugoslav Republic of Macedonia: 2.10\n",
            " Slovenia: 2.00\n",
            " Estonia: 1.30\n",
            " Montenegro: 0.65\n",
            " Luxembourg: 0.52\n",
            " Malta: 0.41\n",
            " Iceland: 0.32\n",
            " Andorra: 0.09\n",
            " Liechtenstein: 0.04\n",
            " San Marino: 0.03\n",
            " Monaco: 0.03\n"
          ]
        }
      ]
    },
    {
      "cell_type": "code",
      "source": [],
      "metadata": {
        "id": "cm00K99l6LoK"
      },
      "execution_count": null,
      "outputs": []
    }
  ]
}
