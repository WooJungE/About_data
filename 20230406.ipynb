{
  "nbformat": 4,
  "nbformat_minor": 0,
  "metadata": {
    "colab": {
      "provenance": [],
      "authorship_tag": "ABX9TyPiHo96dA6CzteKGQ5OT+d6",
      "include_colab_link": true
    },
    "kernelspec": {
      "name": "python3",
      "display_name": "Python 3"
    },
    "language_info": {
      "name": "python"
    }
  },
  "cells": [
    {
      "cell_type": "markdown",
      "metadata": {
        "id": "view-in-github",
        "colab_type": "text"
      },
      "source": [
        "<a href=\"https://colab.research.google.com/github/WooJungE/About_data/blob/main/20230406.ipynb\" target=\"_parent\"><img src=\"https://colab.research.google.com/assets/colab-badge.svg\" alt=\"Open In Colab\"/></a>"
      ]
    },
    {
      "cell_type": "code",
      "execution_count": 2,
      "metadata": {
        "id": "I9hIg58GJzlq"
      },
      "outputs": [],
      "source": [
        "import pandas as pd\n",
        "from sklearn.datasets import fetch_california_housing\n",
        "from sklearn.model_selection import train_test_split\n",
        "\n",
        "def get_cali():\n",
        "  dataset = fetch_california_housing()\n",
        "  df = pd.DataFrame(dataset.data, columns = dataset.feature_names)\n",
        "  df['MEDV'] = dataset.target\n",
        "  df.index.name='record'\n",
        "  X_train, X_test, y_train, y_test = \\\n",
        "  train_test_split(df.loc[:, df.columns != 'MEDV'], df['MEDV'], test_size = .33, random_state=42)\n",
        "  return [X_train, X_test, y_train, y_test]"
      ]
    },
    {
      "cell_type": "code",
      "source": [
        "from sklearn.linear_model import LinearRegression\n",
        "from sklearn.metrics import r2_score\n",
        "\n",
        "X_train, X_test, y_train, y_test = get_cali()\n",
        "clf = LinearRegression()\n",
        "clf.fit(X_train, y_train)\n",
        "y_pred = clf.predict(X_test)\n",
        "r2 = r2_score(y_test, y_pred)\n",
        "print('r2 score is '+str(r2))"
      ],
      "metadata": {
        "colab": {
          "base_uri": "https://localhost:8080/"
        },
        "id": "M_T8a6p5S3PP",
        "outputId": "f6fd8966-4d2c-475e-9350-903f3d1c7fe8"
      },
      "execution_count": 4,
      "outputs": [
        {
          "output_type": "stream",
          "name": "stdout",
          "text": [
            "r2 score is 0.5970494128783957\n"
          ]
        }
      ]
    }
  ]
}