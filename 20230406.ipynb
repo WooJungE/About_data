{
  "nbformat": 4,
  "nbformat_minor": 0,
  "metadata": {
    "colab": {
      "provenance": [],
      "authorship_tag": "ABX9TyOjR870eSTtQE1J7DtFEm+n",
      "include_colab_link": true
    },
    "kernelspec": {
      "name": "python3",
      "display_name": "Python 3"
    },
    "language_info": {
      "name": "python"
    }
  },
  "cells": [
    {
      "cell_type": "markdown",
      "metadata": {
        "id": "view-in-github",
        "colab_type": "text"
      },
      "source": [
        "<a href=\"https://colab.research.google.com/github/WooJungE/About_data/blob/main/20230406.ipynb\" target=\"_parent\"><img src=\"https://colab.research.google.com/assets/colab-badge.svg\" alt=\"Open In Colab\"/></a>"
      ]
    },
    {
      "cell_type": "code",
      "execution_count": null,
      "metadata": {
        "id": "I9hIg58GJzlq"
      },
      "outputs": [],
      "source": [
        "import pandas as pd\n",
        "from sklearn.datasets import fetch_california_housing\n",
        "from sklearn.model_selection import train_test_split\n",
        "\n",
        "def get_cali():\n",
        "  dataset = fetch_california_housing()\n",
        "  df = pd.DataFrame(dataset.data, columns = dataset.feature_names)\n",
        "  df['MEDV'] = dataset.target\n",
        "  df.index.name='record'\n",
        "  X_train, X_test, y_train, y_test = \\\n",
        "  train_test_split(df.loc[:, df.columns != 'MEDV'], df['MEDV'], test_size = .33, random_state=42)\n",
        "  return [X_train, X_test, y_train, y_test]"
      ]
    },
    {
      "cell_type": "code",
      "source": [
        "from sklearn.linear_model import LinearRegression\n",
        "from sklearn.metrics import r2_score\n",
        "\n",
        "X_train, X_test, y_train, y_test = get_cali()\n",
        "clf = LinearRegression()\n",
        "clf.fit(X_train, y_train)\n",
        "y_pred = clf.predict(X_test)\n",
        "r2 = r2_score(y_test, y_pred)\n",
        "print('r2 score is '+str(r2))"
      ],
      "metadata": {
        "colab": {
          "base_uri": "https://localhost:8080/"
        },
        "id": "M_T8a6p5S3PP",
        "outputId": "661d91c3-d8c8-4600-c1ab-c682dd09ee54"
      },
      "execution_count": null,
      "outputs": [
        {
          "output_type": "stream",
          "name": "stdout",
          "text": [
            "r2 score is 0.5970494128783957\n"
          ]
        }
      ]
    },
    {
      "cell_type": "code",
      "source": [
        "from sklearn.linear_model import Lasso\n",
        "from sklearn.metrics import r2_score\n",
        "\n",
        "X_train, X_test, y_train, y_test = get_cali()\n",
        "clf = Lasso(alpha = 0.1)\n",
        "clf.fit(X_train, y_train)\n",
        "y_pred = clf.predict(X_test)\n",
        "r2 = r2_score(y_test, y_pred)\n",
        "print('r2 score is '+str(r2))"
      ],
      "metadata": {
        "colab": {
          "base_uri": "https://localhost:8080/"
        },
        "id": "N7aRXOSBVzIy",
        "outputId": "04f8c015-3317-4ba0-d361-4f09985cdc84"
      },
      "execution_count": null,
      "outputs": [
        {
          "output_type": "stream",
          "name": "stdout",
          "text": [
            "r2 score is 0.5446175088821326\n"
          ]
        }
      ]
    },
    {
      "cell_type": "code",
      "source": [
        "from sklearn.linear_model import Ridge\n",
        "from sklearn.metrics import r2_score\n",
        "\n",
        "X_train, X_test, y_train, y_test = get_cali()\n",
        "clf = Ridge(alpha = 0.3)\n",
        "clf.fit(X_train, y_train)\n",
        "y_pred = clf.predict(X_test)\n",
        "r2 = r2_score(y_test, y_pred)\n",
        "print('r2 score is '+str(r2))"
      ],
      "metadata": {
        "colab": {
          "base_uri": "https://localhost:8080/"
        },
        "id": "ZLHTeadVWB7_",
        "outputId": "b5c12794-dd49-4c75-8331-215d72301601"
      },
      "execution_count": null,
      "outputs": [
        {
          "output_type": "stream",
          "name": "stdout",
          "text": [
            "r2 score is 0.5970629845342554\n"
          ]
        }
      ]
    },
    {
      "cell_type": "code",
      "source": [
        "import pandas as pd\n",
        "from sklearn.datasets import load_diabetes #당뇨\n",
        "from sklearn.model_selection import train_test_split\n",
        "\n",
        "def get_diabetes():\n",
        "  dataset = load_diabetes()\n",
        "  df = pd.DataFrame(dataset.data, columns = dataset.feature_names)\n",
        "  df['MEDV'] = dataset.target\n",
        "  df.index.name='record'\n",
        "  X_train, X_test, y_train, y_test = \\\n",
        "  train_test_split(df.loc[:, df.columns != 'MEDV'], df['MEDV'], test_size = .33, random_state=42)\n",
        "  return [X_train, X_test, y_train, y_test]"
      ],
      "metadata": {
        "id": "gcjESIruWs7L"
      },
      "execution_count": null,
      "outputs": []
    },
    {
      "cell_type": "code",
      "source": [
        "from sklearn.linear_model import LinearRegression\n",
        "from sklearn.metrics import r2_score\n",
        "\n",
        "X_train, X_test, y_train, y_test = get_diabetes()\n",
        "clf = LinearRegression()\n",
        "clf.fit(X_train, y_train)\n",
        "y_pred = clf.predict(X_test)\n",
        "r2 = r2_score(y_test, y_pred)\n",
        "print('r2 score is '+str(r2))"
      ],
      "metadata": {
        "colab": {
          "base_uri": "https://localhost:8080/"
        },
        "id": "c1OmLRSZWVyp",
        "outputId": "143ca350-728f-4ea8-d2b9-27016e198713"
      },
      "execution_count": null,
      "outputs": [
        {
          "output_type": "stream",
          "name": "stdout",
          "text": [
            "r2 score is 0.5103942572821252\n"
          ]
        }
      ]
    },
    {
      "cell_type": "code",
      "source": [
        "from sklearn.linear_model import Lasso\n",
        "from sklearn.metrics import r2_score\n",
        "\n",
        "X_train, X_test, y_train, y_test = get_diabetes()\n",
        "clf = Lasso(alpha = 0.1)\n",
        "clf.fit(X_train, y_train)\n",
        "y_pred = clf.predict(X_test)\n",
        "r2 = r2_score(y_test, y_pred)\n",
        "print('r2 score is '+str(r2))"
      ],
      "metadata": {
        "colab": {
          "base_uri": "https://localhost:8080/"
        },
        "id": "MECnzQOCXigF",
        "outputId": "6b2e2f64-5992-43ce-a029-599d7e3cf8dd"
      },
      "execution_count": null,
      "outputs": [
        {
          "output_type": "stream",
          "name": "stdout",
          "text": [
            "r2 score is 0.5107920917103144\n"
          ]
        }
      ]
    },
    {
      "cell_type": "code",
      "source": [
        "from sklearn.linear_model import Ridge\n",
        "from sklearn.metrics import r2_score\n",
        "\n",
        "X_train, X_test, y_train, y_test = get_diabetes()\n",
        "clf = Ridge(alpha = 0.3)\n",
        "clf.fit(X_train, y_train)\n",
        "y_pred = clf.predict(X_test)\n",
        "r2 = r2_score(y_test, y_pred)\n",
        "print('r2 score is '+str(r2))"
      ],
      "metadata": {
        "colab": {
          "base_uri": "https://localhost:8080/"
        },
        "id": "rZgPoigVXlCj",
        "outputId": "abb4e5da-499d-4cea-d61a-5f2af346ac82"
      },
      "execution_count": null,
      "outputs": [
        {
          "output_type": "stream",
          "name": "stdout",
          "text": [
            "r2 score is 0.5054988841760112\n"
          ]
        }
      ]
    }
  ]
}