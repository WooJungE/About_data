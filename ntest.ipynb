{
 "cells": [
  {
   "cell_type": "code",
   "execution_count": 34,
   "metadata": {},
   "outputs": [],
   "source": [
    "num1 = [1, 2, 3]\n",
    "num2 = num1[:]"
   ]
  },
  {
   "cell_type": "code",
   "execution_count": 35,
   "metadata": {},
   "outputs": [
    {
     "data": {
      "text/plain": [
       "2600050152064"
      ]
     },
     "execution_count": 35,
     "metadata": {},
     "output_type": "execute_result"
    }
   ],
   "source": [
    "id(num1)"
   ]
  },
  {
   "cell_type": "code",
   "execution_count": 36,
   "metadata": {},
   "outputs": [
    {
     "data": {
      "text/plain": [
       "2600055879872"
      ]
     },
     "execution_count": 36,
     "metadata": {},
     "output_type": "execute_result"
    }
   ],
   "source": [
    "id(num2)"
   ]
  },
  {
   "cell_type": "code",
   "execution_count": 39,
   "metadata": {},
   "outputs": [],
   "source": [
    "def add(num1, num2):\n",
    "    \"\"\"\n",
    "\n",
    "    \"\"\"\n",
    "    return num1 + num2"
   ]
  },
  {
   "cell_type": "code",
   "execution_count": 37,
   "metadata": {},
   "outputs": [
    {
     "name": "stdout",
     "output_type": "stream",
     "text": [
      "True False\n"
     ]
    }
   ],
   "source": [
    "num1 = [1, 2, 3]\n",
    "num2 = num1[:]\n",
    "print(num1 == num2, num1 is num2)"
   ]
  },
  {
   "cell_type": "code",
   "execution_count": 38,
   "metadata": {},
   "outputs": [],
   "source": [
    "import sys\n",
    "import os\n",
    "from subprocess import Popen, PIPE"
   ]
  },
  {
   "cell_type": "code",
   "execution_count": 5,
   "metadata": {},
   "outputs": [
    {
     "data": {
      "text/plain": [
       "True"
      ]
     },
     "execution_count": 5,
     "metadata": {},
     "output_type": "execute_result"
    }
   ],
   "source": [
    "isinstance(3, int)"
   ]
  },
  {
   "cell_type": "code",
   "execution_count": 6,
   "metadata": {},
   "outputs": [],
   "source": [
    "num: int = 1\n",
    "pi: float = 3.14\n",
    "name: str = \"John\"\n",
    "is_ok: bool = True\n",
    "nums: list = [1, 2, 3]\n",
    "pi_dict: dict = {\"pi\": 3.14}"
   ]
  },
  {
   "cell_type": "code",
   "execution_count": 7,
   "metadata": {},
   "outputs": [
    {
     "data": {
      "text/plain": [
       "{'pi': 3.14}"
      ]
     },
     "execution_count": 7,
     "metadata": {},
     "output_type": "execute_result"
    }
   ],
   "source": [
    "pi_dict"
   ]
  },
  {
   "cell_type": "code",
   "execution_count": 8,
   "metadata": {},
   "outputs": [],
   "source": [
    "nums: list[int] = [1, 2, 3]\n",
    "names: list[str] = [\"John\", \"Jane\", \"Jack\"]"
   ]
  },
  {
   "cell_type": "code",
   "execution_count": 42,
   "metadata": {},
   "outputs": [],
   "source": [
    "from typing import List\n",
    "nums: List[int] = [1, 2, 3]\n",
    "names: List[str] = [\"John\", \"Jane\", \"Jack\"]"
   ]
  },
  {
   "cell_type": "code",
   "execution_count": 43,
   "metadata": {},
   "outputs": [],
   "source": [
    "from typing import Tuple, Dict, Set\n",
    "nums: Tuple[int] = (1, 2, 3)\n",
    "pi_dict: Dict[str, float] = {\"pi\": 3.14}\n",
    "nums_set: Set[int] = {1, 2, 3}"
   ]
  },
  {
   "cell_type": "code",
   "execution_count": 44,
   "metadata": {},
   "outputs": [],
   "source": [
    "from typing import Union\n",
    "num: Union[int, float] = 1\n",
    "num = 3.14"
   ]
  },
  {
   "cell_type": "code",
   "execution_count": 45,
   "metadata": {},
   "outputs": [],
   "source": [
    "num: int | float = 1\n",
    "num = 3.14"
   ]
  },
  {
   "cell_type": "code",
   "execution_count": 49,
   "metadata": {},
   "outputs": [],
   "source": [
    "name: str | None = None\n",
    "name = input(\"이름을 입력하세요: \")"
   ]
  },
  {
   "cell_type": "code",
   "execution_count": 48,
   "metadata": {},
   "outputs": [],
   "source": [
    "from typing import Optional\n",
    "name: Optional[str] = None\n",
    "name = input(\"이름을 입력하세요: \")"
   ]
  },
  {
   "cell_type": "code",
   "execution_count": 17,
   "metadata": {},
   "outputs": [
    {
     "data": {
      "text/plain": [
       "3.14"
      ]
     },
     "execution_count": 17,
     "metadata": {},
     "output_type": "execute_result"
    }
   ],
   "source": [
    "def add(a: int, b: int) -> int:\n",
    "    return a + b\n",
    "\n",
    "add(1, 2)\n",
    "add(1.0, 2.14)"
   ]
  },
  {
   "cell_type": "code",
   "execution_count": 40,
   "metadata": {},
   "outputs": [],
   "source": [
    "lyrics = \"I hear the drums echoing tonight, but she hears only whispers of some quiet conversation\"\n",
    "lyrics = (\n",
    "\"I hear the drums echoing tonight, but she hears only whispers of some\"\n",
    "\" quiet conversation\"\n",
    ")"
   ]
  },
  {
   "cell_type": "code",
   "execution_count": 41,
   "metadata": {},
   "outputs": [],
   "source": [
    "assert isinstance(3, int)"
   ]
  },
  {
   "cell_type": "code",
   "execution_count": 51,
   "metadata": {},
   "outputs": [
    {
     "name": "stdout",
     "output_type": "stream",
     "text": [
      "Elapsed:  10.44sec\n",
      "Elapsed:  0.01sec\n"
     ]
    }
   ],
   "source": [
    "import time\n",
    "from collections import deque\n",
    "\n",
    "N = 100_000\n",
    "nums = list(range(N))\n",
    "start = time.time()\n",
    "while nums:\n",
    "    nums.pop(0)\n",
    "print(f\"Elapsed: {time.time() - start : .2f}sec\")\n",
    "nums = deque(list(range(N)))\n",
    "start = time.time()\n",
    "while nums:\n",
    "    nums.popleft()\n",
    "print(f\"Elapsed: {time.time() - start : .2f}sec\")"
   ]
  },
  {
   "cell_type": "code",
   "execution_count": 19,
   "metadata": {},
   "outputs": [
    {
     "name": "stdout",
     "output_type": "stream",
     "text": [
      "False\n",
      "Elapsed:  0.19305sec\n",
      "False\n",
      "Elapsed:  0.01446sec\n"
     ]
    }
   ],
   "source": [
    "import time\n",
    "\n",
    "N = 10_000_000\n",
    "\n",
    "nums = list(range(N))\n",
    "\n",
    "start = time.time()\n",
    "print(N in nums)\n",
    "print(f\"Elapsed: {time.time() - start : .5f}sec\")\n",
    "\n",
    "nums = {i: i for i in range(N)}\n",
    "\n",
    "start = time.time()\n",
    "print(N in nums)\n",
    "print(f\"Elapsed: {time.time() - start : .5f}sec\")"
   ]
  },
  {
   "cell_type": "code",
   "execution_count": 20,
   "metadata": {},
   "outputs": [
    {
     "name": "stdout",
     "output_type": "stream",
     "text": [
      "Elapsed:  1.47sec\n",
      "Elapsed:  0.89sec\n",
      "Elapsed:  1.13sec\n"
     ]
    }
   ],
   "source": [
    "import time\n",
    "\n",
    "N = 10_000_000\n",
    "\n",
    "start = time.time()\n",
    "nums = []\n",
    "for num in range(N):\n",
    "    nums.append(num ** 2)\n",
    "print(f\"Elapsed: {time.time() - start : .2f}sec\")\n",
    "\n",
    "start = time.time()\n",
    "nums = [num ** 2 for num in range(N)]\n",
    "print(f\"Elapsed: {time.time() - start : .2f}sec\")\n",
    "\n",
    "start = time.time()\n",
    "nums = list(map(lambda num: num ** 2, range(N)))\n",
    "print(f\"Elapsed: {time.time() - start : .2f}sec\")"
   ]
  },
  {
   "cell_type": "code",
   "execution_count": 21,
   "metadata": {},
   "outputs": [
    {
     "data": {
      "text/plain": [
       "[0, 1, 4, 9, 16, 25, 36, 49, 64, 81]"
      ]
     },
     "execution_count": 21,
     "metadata": {},
     "output_type": "execute_result"
    }
   ],
   "source": [
    "nums = []\n",
    "for num in range(10):\n",
    "    nums.append(num ** 2)\n",
    "nums"
   ]
  },
  {
   "cell_type": "code",
   "execution_count": 22,
   "metadata": {},
   "outputs": [
    {
     "data": {
      "text/plain": [
       "[0, 1, 4, 9, 16, 25, 36, 49, 64, 81]"
      ]
     },
     "execution_count": 22,
     "metadata": {},
     "output_type": "execute_result"
    }
   ],
   "source": [
    "nums = [\n",
    "    num ** 2 for num in range(10)\n",
    "]\n",
    "nums\n",
    "\n",
    "\"\"\"횟수를 알 수 있음\"\"\""
   ]
  },
  {
   "cell_type": "code",
   "execution_count": 23,
   "metadata": {},
   "outputs": [
    {
     "name": "stdout",
     "output_type": "stream",
     "text": [
      "Elapsed:  0.11sec\n",
      "Elapsed:  0.19sec\n"
     ]
    }
   ],
   "source": [
    "import time\n",
    "\n",
    "N = 100_000\n",
    "\n",
    "chars = [\"a\", \"b\", \"c\", \"d\", \"e\", \"f\", \"g\", \"h\", \"i\", \"j\"]\n",
    "\n",
    "start = time.time()\n",
    "for _ in range(N):\n",
    "    for idx, char in enumerate(chars):\n",
    "        idx, char\n",
    "        continue\n",
    "\n",
    "print(f\"Elapsed: {time.time() - start : .2f}sec\")\n",
    "\n",
    "start = time.time()\n",
    "for _ in range(N):\n",
    "    for idx in range(len(chars)):\n",
    "        idx, chars[idx]\n",
    "        continue\n",
    "print(f\"Elapsed: {time.time() - start : .2f}sec\")"
   ]
  }
 ],
 "metadata": {
  "kernelspec": {
   "display_name": "Python 3",
   "language": "python",
   "name": "python3"
  },
  "language_info": {
   "codemirror_mode": {
    "name": "ipython",
    "version": 3
   },
   "file_extension": ".py",
   "mimetype": "text/x-python",
   "name": "python",
   "nbconvert_exporter": "python",
   "pygments_lexer": "ipython3",
   "version": "3.11.1"
  },
  "orig_nbformat": 4,
  "vscode": {
   "interpreter": {
    "hash": "8c1234031685ba7dcc370efb50ad1f2f3e36146e1c297b44564a996d07555ef4"
   }
  }
 },
 "nbformat": 4,
 "nbformat_minor": 2
}
